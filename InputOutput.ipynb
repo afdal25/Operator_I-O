{
 "cells": [
  {
   "cell_type": "markdown",
   "id": "53a973ce",
   "metadata": {},
   "source": [
    "<h2>Input Output</h2>"
   ]
  },
  {
   "cell_type": "code",
   "execution_count": 10,
   "id": "52257a6c",
   "metadata": {
    "scrolled": true
   },
   "outputs": [
    {
     "name": "stdout",
     "output_type": "stream",
     "text": [
      "Isikan bilangan 1 :10\n",
      "Isikan bilangan 2 : 15\n",
      "Hasil dari 10 + 15 = 25\n"
     ]
    }
   ],
   "source": [
    "bil1 = input('Isikan bilangan 1 :')\n",
    "bil2 = input('Isikan bilangan 2 : ')\n",
    "hasil = int(bil1) + int(bil2)\n",
    "print(\"Hasil dari\", bil1, \"+\", bil2, \"=\", hasil)"
   ]
  },
  {
   "cell_type": "markdown",
   "id": "679caadf",
   "metadata": {},
   "source": [
    "<h3>Cara melakukan print denghan menambahkan end di akhir baris</h3>"
   ]
  },
  {
   "cell_type": "code",
   "execution_count": 15,
   "id": "578af6b0",
   "metadata": {},
   "outputs": [
    {
     "name": "stdout",
     "output_type": "stream",
     "text": [
      "A\n",
      "B\n",
      "C\n",
      "D^_^"
     ]
    }
   ],
   "source": [
    "print(\"A\", \"B\", \"C\", \"D\", sep='\\n', end=\"^_^\")"
   ]
  },
  {
   "cell_type": "markdown",
   "id": "90ab0c88",
   "metadata": {},
   "source": [
    "<h3>Memformat dengan Index</h3>"
   ]
  },
  {
   "cell_type": "code",
   "execution_count": 20,
   "id": "c19a9a1c",
   "metadata": {},
   "outputs": [
    {
     "name": "stdout",
     "output_type": "stream",
     "text": [
      "Hasil dari 8 modulus 10 = 8\n"
     ]
    }
   ],
   "source": [
    "num_1 = 8\n",
    "num_2 = 10\n",
    "\n",
    "# hasil dari 8 modulus 10 = 8\n",
    "#str.format()\n",
    "\n",
    "print('Hasil dari {} modulus {} = {}'.format(num_1,num_2,num_1%num_2))"
   ]
  },
  {
   "cell_type": "markdown",
   "id": "ad8e7e2c",
   "metadata": {},
   "source": [
    "<h3>Memformat dengan Key (kunci)</h3>"
   ]
  },
  {
   "cell_type": "code",
   "execution_count": 22,
   "id": "ac739679",
   "metadata": {},
   "outputs": [
    {
     "name": "stdout",
     "output_type": "stream",
     "text": [
      "Nama anda Darmawan Rudi Hartono\n"
     ]
    }
   ],
   "source": [
    "fname = \"Rudi\"\n",
    "mname = \"Hartono\"\n",
    "lname = \"Darmawan\"\n",
    "\n",
    "print('Nama anda {2} {0} {1}' .format(fname,mname,lname))"
   ]
  },
  {
   "cell_type": "markdown",
   "id": "e0814ace",
   "metadata": {},
   "source": [
    "<h3>Tanda Pengenal</h3>"
   ]
  },
  {
   "cell_type": "code",
   "execution_count": 25,
   "id": "34386322",
   "metadata": {},
   "outputs": [
    {
     "name": "stdout",
     "output_type": "stream",
     "text": [
      "Nama anda Afdal, nilai anda 100\n"
     ]
    }
   ],
   "source": [
    "print('Nama anda {nama}, nilai anda {nilai}'.format(nama='Afdal',nilai=100))"
   ]
  },
  {
   "cell_type": "markdown",
   "id": "4e4a18c1",
   "metadata": {},
   "source": [
    "<h1>Pengenalan String</h1>"
   ]
  },
  {
   "cell_type": "markdown",
   "id": "988f63d4",
   "metadata": {},
   "source": [
    "<h3>Index String</h3>"
   ]
  },
  {
   "cell_type": "code",
   "execution_count": 28,
   "id": "c607acd9",
   "metadata": {},
   "outputs": [
    {
     "name": "stdout",
     "output_type": "stream",
     "text": [
      "Karakter pertama :  U\n",
      "Karakter Terakhir :  a\n",
      "Universitas\n",
      "Putra\n",
      "a Putra\n",
      "artuP asuN satisrevinU\n"
     ]
    }
   ],
   "source": [
    "univ = \"Universitas Nusa Putra\"\n",
    "\n",
    "print(\"Karakter pertama : \",univ[0])\n",
    "print(\"Karakter Terakhir : \",univ[-1])\n",
    "#Universitas\n",
    "print(univ[0:11])\n",
    "print(univ[-5:])\n",
    "print(univ[15:])\n",
    "print(univ[::-1])"
   ]
  },
  {
   "cell_type": "code",
   "execution_count": 29,
   "id": "d518f81d",
   "metadata": {},
   "outputs": [
    {
     "name": "stdout",
     "output_type": "stream",
     "text": [
      "Nama saya Rudi Andri\n",
      "Hasil penjumlahan 100 + 20 = 120\n"
     ]
    }
   ],
   "source": [
    "f_name = 'Rudi'\n",
    "l_name = 'Andri'\n",
    "\n",
    "print(f'Nama saya {f_name} {l_name}')\n",
    "\n",
    "first = 100\n",
    "second = 20\n",
    "\n",
    "print(f'Hasil penjumlahan {first} + {second} = {first+second}')"
   ]
  },
  {
   "cell_type": "code",
   "execution_count": 33,
   "id": "df20c669",
   "metadata": {},
   "outputs": [
    {
     "name": "stdout",
     "output_type": "stream",
     "text": [
      "['Andri', 'Budi', 'Cika']\n",
      "['Andri', 'Budi', 'Cika']\n",
      "Andri & Budi & Cika\n"
     ]
    }
   ],
   "source": [
    "nama = \"Andri,Budi,Cika\"\n",
    "nama2 = \"Andri Budi Cika\"\n",
    "print(nama2.split())\n",
    "print(nama.split(','))\n",
    "\n",
    "#join\n",
    "print(' & '.join(nama.split(',')))\n",
    "\n",
    "#input tgl lahir -> 19/Oktober/2010\n",
    "#input nama -> Bill Gate\n",
    "#output:\n",
    "#Tgl : 19, Bulan:Oktober, Tahun:2010\n",
    "#Nama Inisial : BG"
   ]
  },
  {
   "cell_type": "code",
   "execution_count": 44,
   "id": "53e0d33e",
   "metadata": {},
   "outputs": [
    {
     "name": "stdout",
     "output_type": "stream",
     "text": [
      "Masukan Tanggal Lahir : 25/Mei/2005\n",
      "Masukan Nama : Mochamad Afdal\n",
      "tgl : 25, Bulan:Mei, Tahun :2005\n",
      "Nama inisial : MA\n"
     ]
    }
   ],
   "source": [
    "tgl = input(\"Masukan Tanggal Lahir : \")\n",
    "nama = input(\"Masukan Nama : \")\n",
    "pemisah = tgl.split(\"/\")\n",
    "print(f\"tgl : {pemisah[0]}, Bulan:{pemisah[1]}, Tahun :{pemisah[2]}\")\n",
    "pemisah2 = nama.split()\n",
    "nama_pertama = pemisah2[0]\n",
    "nama_terakhir = pemisah2[1]\n",
    "print(f\"Nama inisial : {nama_pertama[0]+nama_terakhir[0]}\")"
   ]
  }
 ],
 "metadata": {
  "kernelspec": {
   "display_name": "Python 3 (ipykernel)",
   "language": "python",
   "name": "python3"
  },
  "language_info": {
   "codemirror_mode": {
    "name": "ipython",
    "version": 3
   },
   "file_extension": ".py",
   "mimetype": "text/x-python",
   "name": "python",
   "nbconvert_exporter": "python",
   "pygments_lexer": "ipython3",
   "version": "3.9.12"
  }
 },
 "nbformat": 4,
 "nbformat_minor": 5
}
