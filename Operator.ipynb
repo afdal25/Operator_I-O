{
 "cells": [
  {
   "cell_type": "markdown",
   "id": "1400d4eb",
   "metadata": {},
   "source": [
    "<h2>Operator Aritmatika</h2>"
   ]
  },
  {
   "cell_type": "code",
   "execution_count": 7,
   "id": "34bcf5ec",
   "metadata": {},
   "outputs": [
    {
     "name": "stdout",
     "output_type": "stream",
     "text": [
      "13\n",
      "7\n",
      "30\n",
      "3.3333333333333335\n",
      "3\n",
      "1000\n",
      "1\n"
     ]
    }
   ],
   "source": [
    "#Operator Aritmatika\n",
    "\n",
    "num1 = 10\n",
    "num2 = 3\n",
    "\n",
    "jumlah = num1 + num2\n",
    "kurang = num1 - num2\n",
    "kali = num1 * num2\n",
    "bagi = num1 / num2\n",
    "bagi_bulat = num1 // num2\n",
    "pangkat = num1 ** num2\n",
    "modulus = num1 % num2\n",
    "\n",
    "print(jumlah)\n",
    "print(kurang)\n",
    "print(kali)\n",
    "print(bagi)\n",
    "print(bagi_bulat)\n",
    "print(pangkat)\n",
    "print(modulus)"
   ]
  },
  {
   "cell_type": "markdown",
   "id": "143075bb",
   "metadata": {},
   "source": [
    "<h2>Operator Assigment Penugasan</h2>"
   ]
  },
  {
   "cell_type": "code",
   "execution_count": 12,
   "id": "affbbca1",
   "metadata": {},
   "outputs": [
    {
     "name": "stdout",
     "output_type": "stream",
     "text": [
      "15\n",
      "11\n",
      "22\n",
      "7.333333333333333\n",
      "3.0\n",
      "27.0\n",
      "1.0\n"
     ]
    }
   ],
   "source": [
    "x = 5 #assigment operator\n",
    "x +=10 # x = x + 10 => 15\n",
    "print(x)\n",
    "x -=4 # x = x - 4 => 11\n",
    "print(x)\n",
    "x *=2 # x = x * 2 => 22\n",
    "print(x)\n",
    "x /=3 # x = x / 3 => 7\n",
    "print(x)\n",
    "x //=2 # x = x // 2 => 3.0\n",
    "print(x)\n",
    "x **=3 # x = x ** 3 => 27\n",
    "print(x)\n",
    "x %=2 # x = x % 2 =>1\n",
    "print(x)\n"
   ]
  },
  {
   "cell_type": "markdown",
   "id": "510a6e09",
   "metadata": {},
   "source": [
    "<h2>Operator Perbandingan</h2>"
   ]
  },
  {
   "cell_type": "code",
   "execution_count": 16,
   "id": "d0b4682c",
   "metadata": {},
   "outputs": [
    {
     "name": "stdout",
     "output_type": "stream",
     "text": [
      "False\n",
      "True\n",
      "True\n",
      "False\n",
      "True\n",
      "False\n"
     ]
    }
   ],
   "source": [
    "bil1 = 8\n",
    "bil2 = 7\n",
    "\n",
    "is_equal = bil1 == bil2\n",
    "is_not_equal = bil1 != bil2\n",
    "is_greater_than = bil1 > bil2\n",
    "is_less_than = bil1 < bil2\n",
    "is_greater_equal = bil1 >= bil2\n",
    "is_less_equal = bil1 <= bil2\n",
    "\n",
    "print(is_equal)\n",
    "print(is_not_equal)\n",
    "print(is_greater_than)\n",
    "print(is_less_than)\n",
    "print(is_greater_equal)\n",
    "print(is_less_equal)"
   ]
  },
  {
   "cell_type": "markdown",
   "id": "c2b28f3d",
   "metadata": {},
   "source": [
    "<h2>Operator Logika</h2>"
   ]
  },
  {
   "cell_type": "code",
   "execution_count": 20,
   "id": "e5ab2166",
   "metadata": {},
   "outputs": [
    {
     "name": "stdout",
     "output_type": "stream",
     "text": [
      "True\n",
      "False\n",
      "True\n"
     ]
    }
   ],
   "source": [
    "var1 = 4\n",
    "var2 = 10\n",
    "\n",
    "opr_and = var1 < var2 and var1 <=4 #True\n",
    "opr_or = var1 >= var2 or var1 % 2==1 #False\n",
    "opr_not = not opr_or\n",
    "\n",
    "print(opr_and)\n",
    "print(opr_or)\n",
    "print(opr_not)"
   ]
  },
  {
   "cell_type": "markdown",
   "id": "9f80ef1f",
   "metadata": {},
   "source": [
    "<h2>Operator Identitas</h2>"
   ]
  },
  {
   "cell_type": "code",
   "execution_count": 26,
   "id": "af41c029",
   "metadata": {},
   "outputs": [
    {
     "name": "stdout",
     "output_type": "stream",
     "text": [
      "True\n",
      "False\n",
      "False\n",
      "True\n",
      "True\n",
      "False\n"
     ]
    }
   ],
   "source": [
    "fruits = [\"Apple\", \"Mangoes\", \"Watermelon\"]\n",
    "my_favorite_fruits = fruits #Lokasi memori yang sama\n",
    "your_fruits = [\"Apple\", \"Mangoes\", \"Watermelon\"]\n",
    "\n",
    "print(fruits is my_favorite_fruits)\n",
    "print(fruits is your_fruits)\n",
    "print(fruits is not my_favorite_fruits)\n",
    "print(fruits is not your_fruits)\n",
    "a = 5\n",
    "b = 5 #Python menggunakan metode hashin dalam memberikan nilai variabel\n",
    "print(a is b)\n",
    "print(a is not b)"
   ]
  },
  {
   "cell_type": "markdown",
   "id": "c3b079ad",
   "metadata": {},
   "source": [
    "<h2>Operator Keanggotaan</h2>"
   ]
  },
  {
   "cell_type": "code",
   "execution_count": 31,
   "id": "3aed9697",
   "metadata": {},
   "outputs": [
    {
     "name": "stdout",
     "output_type": "stream",
     "text": [
      "True\n",
      "False\n",
      "False\n",
      "True\n"
     ]
    }
   ],
   "source": [
    "student_names = [\"Andi\", \"Beni\", \"Chika\"]\n",
    "print(\"Beni\" in student_names)\n",
    "print(\"Andi\" not in student_names)\n",
    "print(\"Defi\" in student_names)\n",
    "print(\"Defi\" not in student_names)"
   ]
  },
  {
   "cell_type": "markdown",
   "id": "bc45b05d",
   "metadata": {},
   "source": [
    "<h2>Operator Bitwise</h2>"
   ]
  },
  {
   "cell_type": "code",
   "execution_count": 34,
   "id": "7335d1fb",
   "metadata": {},
   "outputs": [
    {
     "name": "stdout",
     "output_type": "stream",
     "text": [
      "15\n",
      "255\n",
      "240\n"
     ]
    }
   ],
   "source": [
    "nilai_and = 255 & 15\n",
    "nilai_or = 255 | 15\n",
    "nilai_xor = 255 ^ 15\n",
    "# 11111111\n",
    "# 00001111\n",
    "# -------- and\n",
    "# 00001111 => 15\n",
    "print(nilai_and)\n",
    "print(nilai_or)\n",
    "print(nilai_xor)"
   ]
  }
 ],
 "metadata": {
  "kernelspec": {
   "display_name": "Python 3 (ipykernel)",
   "language": "python",
   "name": "python3"
  },
  "language_info": {
   "codemirror_mode": {
    "name": "ipython",
    "version": 3
   },
   "file_extension": ".py",
   "mimetype": "text/x-python",
   "name": "python",
   "nbconvert_exporter": "python",
   "pygments_lexer": "ipython3",
   "version": "3.9.12"
  }
 },
 "nbformat": 4,
 "nbformat_minor": 5
}
